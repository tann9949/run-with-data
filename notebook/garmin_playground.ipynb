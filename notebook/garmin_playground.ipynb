{
 "cells": [
  {
   "cell_type": "code",
   "execution_count": 1,
   "metadata": {},
   "outputs": [],
   "source": [
    "%reload_ext autoreload\n",
    "%autoreload 2\n",
    "\n",
    "import os, sys\n",
    "\n",
    "_path = os.getcwd()\n",
    "while \"running_dot\" not in os.listdir(_path):\n",
    "    _path = os.path.dirname(_path)\n",
    "sys.path.append(_path)"
   ]
  },
  {
   "cell_type": "code",
   "execution_count": 203,
   "metadata": {},
   "outputs": [],
   "source": [
    "from dotenv import load_dotenv\n",
    "\n",
    "from running_dot.client.garmin import GarminClient\n",
    "\n",
    "# load .env\n",
    "load_dotenv()\n",
    "\n",
    "# setup client\n",
    "client = GarminClient()"
   ]
  },
  {
   "cell_type": "markdown",
   "metadata": {},
   "source": [
    "## Create power dataset"
   ]
  },
  {
   "cell_type": "code",
   "execution_count": 251,
   "metadata": {},
   "outputs": [],
   "source": [
    "from datetime import datetime\n",
    "\n",
    "import pandas as pd\n",
    "\n",
    "from running_dot.utils import get_power_indices, get_metric_index\n",
    "\n",
    "POWER_DF_PATH = \"data/power_df.csv\"\n",
    "\n",
    "if os.path.exists(POWER_DF_PATH):\n",
    "    power_df = pd.read_csv(POWER_DF_PATH, index_col=0)\n",
    "else:\n",
    "    # load all activities with details\n",
    "    activities = client.get_run_activities(total=-1)\n",
    "\n",
    "    power_dataset = []\n",
    "    for activity in activities[::-1]:\n",
    "        activity.load_details(client)\n",
    "        assert len(set([len(_m.value) for _m in activity.run_metrics if _m is not None])) == 1\n",
    "\n",
    "        # get max time\n",
    "        T = None\n",
    "        for _m in activity.run_metrics:\n",
    "            if T is not None:\n",
    "                break\n",
    "            if _m is None:\n",
    "                continue\n",
    "            T = len(_m.value)\n",
    "        assert T is not None\n",
    "\n",
    "        power_indices = get_power_indices(activity)\n",
    "        speed_index = get_metric_index(activity, \"speed\")\n",
    "        if not all(_v is not None for _v in power_indices.values()):\n",
    "            # skip if all three values aren't present\n",
    "            continue\n",
    "\n",
    "        power_values = {k: activity.run_metrics[power_indices[k]].value for k in power_indices}\n",
    "        speed_value = activity.run_metrics[speed_index].value\n",
    "        # skip if stryd runs are all zeros\n",
    "        if activity.run_metrics[power_indices[\"stryd\"]].value.sum() == 0:\n",
    "            continue\n",
    "\n",
    "        for t in range(T):\n",
    "            power_dataset.append({\n",
    "                \"activity_id\": activity.activity_id,\n",
    "                \"speed\": speed_value[t],\n",
    "                **{k: power_values[k][t]\n",
    "                for k in power_values}\n",
    "            })\n",
    "\n",
    "    # convert to df and postprocess\n",
    "    power_df = pd.DataFrame(power_dataset)\n",
    "    power_df[\"timestamp\"] = power_df[\"timestamp\"].map(lambda x: datetime.fromtimestamp(x/1000))\n",
    "    power_df = power_df.set_index(\"timestamp\")\n",
    "    power_df.to_csv(POWER_DF_PATH)"
   ]
  },
  {
   "cell_type": "markdown",
   "metadata": {},
   "source": [
    "## EDA"
   ]
  },
  {
   "cell_type": "code",
   "execution_count": 252,
   "metadata": {},
   "outputs": [],
   "source": [
    "import matplotlib.pyplot as plt"
   ]
  },
  {
   "cell_type": "code",
   "execution_count": 253,
   "metadata": {},
   "outputs": [],
   "source": [
    "# remove noise\n",
    "power_df = power_df[power_df[\"stryd\"] != 0]"
   ]
  },
  {
   "cell_type": "code",
   "execution_count": 254,
   "metadata": {},
   "outputs": [
    {
     "data": {
      "text/html": [
       "<div>\n",
       "<style scoped>\n",
       "    .dataframe tbody tr th:only-of-type {\n",
       "        vertical-align: middle;\n",
       "    }\n",
       "\n",
       "    .dataframe tbody tr th {\n",
       "        vertical-align: top;\n",
       "    }\n",
       "\n",
       "    .dataframe thead th {\n",
       "        text-align: right;\n",
       "    }\n",
       "</style>\n",
       "<table border=\"1\" class=\"dataframe\">\n",
       "  <thead>\n",
       "    <tr style=\"text-align: right;\">\n",
       "      <th></th>\n",
       "      <th>activity_id</th>\n",
       "      <th>speed</th>\n",
       "      <th>stryd</th>\n",
       "      <th>garmin</th>\n",
       "      <th>runpowermodel</th>\n",
       "    </tr>\n",
       "    <tr>\n",
       "      <th>timestamp</th>\n",
       "      <th></th>\n",
       "      <th></th>\n",
       "      <th></th>\n",
       "      <th></th>\n",
       "      <th></th>\n",
       "    </tr>\n",
       "  </thead>\n",
       "  <tbody>\n",
       "    <tr>\n",
       "      <th>2024-03-16 06:48:16</th>\n",
       "      <td>14427060324</td>\n",
       "      <td>2.435</td>\n",
       "      <td>105.0</td>\n",
       "      <td>262.0</td>\n",
       "      <td>204.0</td>\n",
       "    </tr>\n",
       "    <tr>\n",
       "      <th>2024-03-16 06:48:20</th>\n",
       "      <td>14427060324</td>\n",
       "      <td>2.417</td>\n",
       "      <td>108.0</td>\n",
       "      <td>265.0</td>\n",
       "      <td>199.0</td>\n",
       "    </tr>\n",
       "    <tr>\n",
       "      <th>2024-03-16 06:48:24</th>\n",
       "      <td>14427060324</td>\n",
       "      <td>2.417</td>\n",
       "      <td>106.0</td>\n",
       "      <td>276.0</td>\n",
       "      <td>226.0</td>\n",
       "    </tr>\n",
       "    <tr>\n",
       "      <th>2024-03-16 06:48:28</th>\n",
       "      <td>14427060324</td>\n",
       "      <td>2.407</td>\n",
       "      <td>106.0</td>\n",
       "      <td>256.0</td>\n",
       "      <td>222.0</td>\n",
       "    </tr>\n",
       "    <tr>\n",
       "      <th>2024-03-16 06:48:32</th>\n",
       "      <td>14427060324</td>\n",
       "      <td>2.417</td>\n",
       "      <td>106.0</td>\n",
       "      <td>278.0</td>\n",
       "      <td>218.0</td>\n",
       "    </tr>\n",
       "  </tbody>\n",
       "</table>\n",
       "</div>"
      ],
      "text/plain": [
       "                     activity_id  speed  stryd  garmin  runpowermodel\n",
       "timestamp                                                            \n",
       "2024-03-16 06:48:16  14427060324  2.435  105.0   262.0          204.0\n",
       "2024-03-16 06:48:20  14427060324  2.417  108.0   265.0          199.0\n",
       "2024-03-16 06:48:24  14427060324  2.417  106.0   276.0          226.0\n",
       "2024-03-16 06:48:28  14427060324  2.407  106.0   256.0          222.0\n",
       "2024-03-16 06:48:32  14427060324  2.417  106.0   278.0          218.0"
      ]
     },
     "execution_count": 254,
     "metadata": {},
     "output_type": "execute_result"
    }
   ],
   "source": [
    "power_df.head()"
   ]
  },
  {
   "cell_type": "markdown",
   "metadata": {},
   "source": [
    "### Power Distribution"
   ]
  },
  {
   "cell_type": "code",
   "execution_count": 255,
   "metadata": {},
   "outputs": [
    {
     "data": {
      "image/png": "[encoded data removed]",
      "text/plain": [
       "<Figure size 640x480 with 1 Axes>"
      ]
     },
     "metadata": {},
     "output_type": "display_data"
    }
   ],
   "source": [
    "n_bins=100\n",
    "power_df[\"garmin\"].plot.hist(bins=n_bins, alpha=0.5, label=\"Garmin\", color=\"purple\")\n",
    "plt.axvline(power_df[\"garmin\"].mean(), linestyle=\"--\", color=\"purple\")\n",
    "power_df[\"runpowermodel\"].plot.hist(bins=n_bins, alpha=0.5, label=\"Run Power Model\", color=\"green\")\n",
    "plt.axvline(power_df[\"runpowermodel\"].mean(), linestyle=\"--\", color=\"green\")\n",
    "power_df[\"stryd\"].plot.hist(bins=n_bins, alpha=0.5, label=\"stryd\", color=\"orange\")\n",
    "plt.axvline(power_df[\"stryd\"].mean(), linestyle=\"--\", color=\"orange\")\n",
    "plt.title(\"Power distribution comparison\")\n",
    "plt.xlabel(\"Power (Watts)\")\n",
    "plt.legend()\n",
    "plt.show()"
   ]
  },
  {
   "cell_type": "markdown",
   "metadata": {},
   "source": []
  },
  {
   "cell_type": "markdown",
   "metadata": {},
   "source": [
    "### Power measured group by pace"
   ]
  },
  {
   "cell_type": "code",
   "execution_count": null,
   "metadata": {},
   "outputs": [],
   "source": []
  },
  {
   "cell_type": "code",
   "execution_count": null,
   "metadata": {},
   "outputs": [],
   "source": []
  },
  {
   "cell_type": "code",
   "execution_count": null,
   "metadata": {},
   "outputs": [],
   "source": []
  }
 ],
 "metadata": {
  "kernelspec": {
   "display_name": "venv",
   "language": "python",
   "name": "python3"
  },
  "language_info": {
   "codemirror_mode": {
    "name": "ipython",
    "version": 3
   },
   "file_extension": ".py",
   "mimetype": "text/x-python",
   "name": "python",
   "nbconvert_exporter": "python",
   "pygments_lexer": "ipython3",
   "version": "3.12.7"
  }
 },
 "nbformat": 4,
 "nbformat_minor": 2
}
